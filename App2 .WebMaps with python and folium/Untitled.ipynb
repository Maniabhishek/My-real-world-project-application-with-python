{
 "cells": [
  {
   "cell_type": "code",
   "execution_count": 3,
   "metadata": {},
   "outputs": [
    {
     "data": {
      "text/plain": [
       "['.ipynb_checkpoints',\n",
       " 'app2-web-map.py',\n",
       " 'Map1.html',\n",
       " 'map1.py',\n",
       " 'Map2.html',\n",
       " 'map2.py',\n",
       " 'Untitled.ipynb',\n",
       " 'Volcanoes.txt',\n",
       " 'world.json',\n",
       " '__MACOSX']"
      ]
     },
     "execution_count": 3,
     "metadata": {},
     "output_type": "execute_result"
    }
   ],
   "source": [
    "import os \n",
    "os.listdir()\n"
   ]
  },
  {
   "cell_type": "code",
   "execution_count": null,
   "metadata": {},
   "outputs": [],
   "source": [
    "import pandas\n",
    "df=pandas.read_json(\"world.json\")\n",
    "print(df)\n"
   ]
  },
  {
   "cell_type": "code",
   "execution_count": 11,
   "metadata": {},
   "outputs": [
    {
     "data": {
      "text/html": [
       "<div>\n",
       "<style scoped>\n",
       "    .dataframe tbody tr th:only-of-type {\n",
       "        vertical-align: middle;\n",
       "    }\n",
       "\n",
       "    .dataframe tbody tr th {\n",
       "        vertical-align: top;\n",
       "    }\n",
       "\n",
       "    .dataframe thead th {\n",
       "        text-align: right;\n",
       "    }\n",
       "</style>\n",
       "<table border=\"1\" class=\"dataframe\">\n",
       "  <thead>\n",
       "    <tr style=\"text-align: right;\">\n",
       "      <th></th>\n",
       "      <th>{\"type\":\"FeatureCollection\"</th>\n",
       "      <th>crs:{\"type\":\"name\"</th>\n",
       "      <th>properties:{\"name\":\"urn:ogc:def:crs:OGC:1.3:CRS84\"}}</th>\n",
       "      <th>features:[{\"type\":\"Feature\"</th>\n",
       "      <th>properties:{\"FIPS\":\"AC\"</th>\n",
       "      <th>ISO2:\"AG\"</th>\n",
       "      <th>ISO3:\"ATG\"</th>\n",
       "      <th>UN:28</th>\n",
       "      <th>NAME:\"Antigua and Barbuda\"</th>\n",
       "      <th>AREA:44</th>\n",
       "      <th>...</th>\n",
       "      <th>[[[119.96720900000012</th>\n",
       "      <th>26.187496000000124]</th>\n",
       "      <th>[119.956383</th>\n",
       "      <th>26.215549]</th>\n",
       "      <th>[120.006104</th>\n",
       "      <th>26.219162]</th>\n",
       "      <th>[120.005547</th>\n",
       "      <th>26.19694]</th>\n",
       "      <th>[119.96720900000012</th>\n",
       "      <th>26.187496000000124]]]]}}]}</th>\n",
       "    </tr>\n",
       "  </thead>\n",
       "  <tbody>\n",
       "  </tbody>\n",
       "</table>\n",
       "<p>0 rows × 173030 columns</p>\n",
       "</div>"
      ],
      "text/plain": [
       "Empty DataFrame\n",
       "Columns: [{\"type\":\"FeatureCollection\", crs:{\"type\":\"name\", properties:{\"name\":\"urn:ogc:def:crs:OGC:1.3:CRS84\"}}, features:[{\"type\":\"Feature\", properties:{\"FIPS\":\"AC\", ISO2:\"AG\", ISO3:\"ATG\", UN:28, NAME:\"Antigua and Barbuda\", AREA:44, POP2005:83039, REGION:19, SUBREGION:29, LON:-61.783, LAT:17.078}, geometry:{\"type\":\"MultiPolygon\", coordinates:[[[[-61.686668, 17.024441000000134], [-61.73806, 16.989719], [-61.82917, 16.996944], [-61.88361, 17.023609], [-61.887222, 17.10527], [-61.832779, 17.16389], [-61.79445, 17.16333], [-61.67028, 17.090275], [-61.686668, 17.024441000000134]]], [[[-61.72917, 17.608608], [-61.73278, 17.541111], [-61.85306, 17.583054], [-61.873062, 17.703888], [-61.84556, 17.724998], [-61.78722, 17.700554], [-61.72917, 17.608608]]]]}}, {\"type\":\"Feature\", properties:{\"FIPS\":\"AG\", ISO2:\"DZ\", ISO3:\"DZA\", UN:12, NAME:\"Algeria\", AREA:238174, POP2005:32854159, REGION:2, SUBREGION:15, LON:2.632, LAT:28.163}, geometry:{\"type\":\"Polygon\", coordinates:[[[2.96361, 36.802216], [3.031389, 36.806389], [3.138333, 36.738327], [3.228055, 36.77861], [3.485555, 36.769165], [3.625, 36.810555], [3.742222, 36.887215], [3.891666, 36.917221], [4.106111, 36.884163], [4.785832, 36.894722], [5.102221, 36.774994], [5.080277, 36.720833], [5.156111, 36.674995], [5.328055, 36.640274], [5.529166, 36.692497], [5.590278, 36.767776], [5.709999, 36.824165], [6, 36.837776], [6.233333, 36.913605], [6.268332, ...]\n",
       "Index: []\n",
       "\n",
       "[0 rows x 173030 columns]"
      ]
     },
     "execution_count": 11,
     "metadata": {},
     "output_type": "execute_result"
    }
   ],
   "source": [
    "df\n"
   ]
  }
 ],
 "metadata": {
  "kernelspec": {
   "display_name": "Python 3",
   "language": "python",
   "name": "python3"
  },
  "language_info": {
   "codemirror_mode": {
    "name": "ipython",
    "version": 3
   },
   "file_extension": ".py",
   "mimetype": "text/x-python",
   "name": "python",
   "nbconvert_exporter": "python",
   "pygments_lexer": "ipython3",
   "version": "3.6.4"
  }
 },
 "nbformat": 4,
 "nbformat_minor": 2
}
